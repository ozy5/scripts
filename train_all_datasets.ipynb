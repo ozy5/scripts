{
 "cells": [
  {
   "cell_type": "code",
   "execution_count": 7,
   "metadata": {},
   "outputs": [],
   "source": [
    "import os\n",
    "import subprocess"
   ]
  },
  {
   "cell_type": "code",
   "execution_count": 4,
   "metadata": {},
   "outputs": [
    {
     "data": {
      "text/plain": [
       "CompletedProcess(args='export COMET_PROJECT_NAME=thermal_disaster', returncode=0)"
      ]
     },
     "execution_count": 4,
     "metadata": {},
     "output_type": "execute_result"
    }
   ],
   "source": [
    "COMET_API_EXPORT = \"export COMET_API_KEY=CtTXsL5EVp349Idk2fttJxhTL\"\n",
    "COMET_PROJECT_NAME = \"export COMET_PROJECT_NAME=thermal_disaster\"\n",
    "\n",
    "subprocess.run(COMET_API_EXPORT, shell=True)\n",
    "subprocess.run(COMET_PROJECT_NAME, shell=True)"
   ]
  },
  {
   "cell_type": "code",
   "execution_count": 11,
   "metadata": {},
   "outputs": [
    {
     "name": "stdout",
     "output_type": "stream",
     "text": [
      "yolo             mode=train             task=detect             project=200_175_trainings             name=200_175_DATASET_0             model=yolov8n.yaml             data=/home/umut/Desktop/newest_thermal_disaster_datasets/hist_eq_filtered_variations/200_175/datasets/filtered_dataset_0             epochs=3             hsv_h=0.0             hsv_s=0.0             hsv_v=0.0             cache=True             pretrained=False             batch=15             device=0             close_mosaic=20             patience=0             mosaic=0.2             \n",
      "yolo             mode=train             task=detect             project=200_175_trainings             name=200_175_DATASET_1             model=yolov8n.yaml             data=/home/umut/Desktop/newest_thermal_disaster_datasets/hist_eq_filtered_variations/200_175/datasets/filtered_dataset_1             epochs=3             hsv_h=0.0             hsv_s=0.0             hsv_v=0.0             cache=True             pretrained=False             batch=15             device=0             close_mosaic=20             patience=0             mosaic=0.2             \n",
      "yolo             mode=train             task=detect             project=200_175_trainings             name=200_175_DATASET_2             model=yolov8n.yaml             data=/home/umut/Desktop/newest_thermal_disaster_datasets/hist_eq_filtered_variations/200_175/datasets/filtered_dataset_2             epochs=3             hsv_h=0.0             hsv_s=0.0             hsv_v=0.0             cache=True             pretrained=False             batch=15             device=0             close_mosaic=20             patience=0             mosaic=0.2             \n",
      "yolo             mode=train             task=detect             project=200_175_trainings             name=200_175_DATASET_3             model=yolov8n.yaml             data=/home/umut/Desktop/newest_thermal_disaster_datasets/hist_eq_filtered_variations/200_175/datasets/filtered_dataset_3             epochs=3             hsv_h=0.0             hsv_s=0.0             hsv_v=0.0             cache=True             pretrained=False             batch=15             device=0             close_mosaic=20             patience=0             mosaic=0.2             \n",
      "yolo             mode=train             task=detect             project=200_175_trainings             name=200_175_DATASET_4             model=yolov8n.yaml             data=/home/umut/Desktop/newest_thermal_disaster_datasets/hist_eq_filtered_variations/200_175/datasets/filtered_dataset_4             epochs=3             hsv_h=0.0             hsv_s=0.0             hsv_v=0.0             cache=True             pretrained=False             batch=15             device=0             close_mosaic=20             patience=0             mosaic=0.2             \n",
      "yolo             mode=train             task=detect             project=200_175_trainings             name=200_175_DATASET_5             model=yolov8n.yaml             data=/home/umut/Desktop/newest_thermal_disaster_datasets/hist_eq_filtered_variations/200_175/datasets/filtered_dataset_5             epochs=3             hsv_h=0.0             hsv_s=0.0             hsv_v=0.0             cache=True             pretrained=False             batch=15             device=0             close_mosaic=20             patience=0             mosaic=0.2             \n",
      "yolo             mode=train             task=detect             project=200_175_trainings             name=200_175_DATASET_6             model=yolov8n.yaml             data=/home/umut/Desktop/newest_thermal_disaster_datasets/hist_eq_filtered_variations/200_175/datasets/filtered_dataset_6             epochs=3             hsv_h=0.0             hsv_s=0.0             hsv_v=0.0             cache=True             pretrained=False             batch=15             device=0             close_mosaic=20             patience=0             mosaic=0.2             \n",
      "yolo             mode=train             task=detect             project=200_175_trainings             name=200_175_DATASET_7             model=yolov8n.yaml             data=/home/umut/Desktop/newest_thermal_disaster_datasets/hist_eq_filtered_variations/200_175/datasets/filtered_dataset_7             epochs=3             hsv_h=0.0             hsv_s=0.0             hsv_v=0.0             cache=True             pretrained=False             batch=15             device=0             close_mosaic=20             patience=0             mosaic=0.2             \n",
      "yolo             mode=train             task=detect             project=200_175_trainings             name=200_175_DATASET_8             model=yolov8n.yaml             data=/home/umut/Desktop/newest_thermal_disaster_datasets/hist_eq_filtered_variations/200_175/datasets/filtered_dataset_8             epochs=3             hsv_h=0.0             hsv_s=0.0             hsv_v=0.0             cache=True             pretrained=False             batch=15             device=0             close_mosaic=20             patience=0             mosaic=0.2             \n",
      "yolo             mode=train             task=detect             project=200_175_trainings             name=200_175_DATASET_9             model=yolov8n.yaml             data=/home/umut/Desktop/newest_thermal_disaster_datasets/hist_eq_filtered_variations/200_175/datasets/filtered_dataset_9             epochs=3             hsv_h=0.0             hsv_s=0.0             hsv_v=0.0             cache=True             pretrained=False             batch=15             device=0             close_mosaic=20             patience=0             mosaic=0.2             \n"
     ]
    }
   ],
   "source": [
    "DATASETS_PATH = \"/home/umut/Desktop/newest_thermal_disaster_datasets/hist_eq_filtered_variations/200_175/datasets\"\n",
    "EXP_NAME = \"200_175\"\n",
    "dataset_names = sorted(os.listdir(DATASETS_PATH))\n",
    "\n",
    "EPOCH_NUMBER = 3\n",
    "\n",
    "BATCH_NUMBER = 15\n",
    "\n",
    "for dataset_name in dataset_names:\n",
    "    dataset_num = dataset_name[-1]\n",
    "    dataset_path = os.path.join(DATASETS_PATH, dataset_name)\n",
    "\n",
    "    data_yaml_path = os.path.join(dataset_path, \"data.yaml\")\n",
    "\n",
    "    final_exp_name = EXP_NAME + \"_DATASET_\" + str(dataset_num)\n",
    "\n",
    "    final_project_name = EXP_NAME + \"_trainings\"\n",
    "\n",
    "    text = f\"yolo \\\n",
    "            mode=train \\\n",
    "            task=detect \\\n",
    "            project={final_project_name} \\\n",
    "            name={final_exp_name} \\\n",
    "            model=yolov8n.yaml \\\n",
    "            data={dataset_path} \\\n",
    "            epochs={EPOCH_NUMBER} \\\n",
    "            hsv_h=0.0 \\\n",
    "            hsv_s=0.0 \\\n",
    "            hsv_v=0.0 \\\n",
    "            cache=True \\\n",
    "            pretrained=False \\\n",
    "            batch={BATCH_NUMBER} \\\n",
    "            device=0 \\\n",
    "            close_mosaic=20 \\\n",
    "            patience=0 \\\n",
    "            mosaic=0.2 \\\n",
    "            \"\n",
    "    \n",
    "\n",
    "    print(text)\n",
    "    subprocess.run(text, shell=True)"
   ]
  },
  {
   "cell_type": "code",
   "execution_count": null,
   "metadata": {},
   "outputs": [],
   "source": []
  }
 ],
 "metadata": {
  "kernelspec": {
   "display_name": "default",
   "language": "python",
   "name": "python3"
  },
  "language_info": {
   "codemirror_mode": {
    "name": "ipython",
    "version": 3
   },
   "file_extension": ".py",
   "mimetype": "text/x-python",
   "name": "python",
   "nbconvert_exporter": "python",
   "pygments_lexer": "ipython3",
   "version": "3.8.16"
  },
  "orig_nbformat": 4
 },
 "nbformat": 4,
 "nbformat_minor": 2
}
